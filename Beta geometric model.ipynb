{
 "cells": [
  {
   "cell_type": "code",
   "execution_count": 43,
   "id": "f1054a5e",
   "metadata": {},
   "outputs": [],
   "source": [
    "import math\n",
    "import pandas\n",
    "from scipy.optimize import minimize\n",
    "from scipy.optimize import Bounds\n",
    "from scipy.special import gammaln\n",
    "from matplotlib import pyplot\n",
    "from statistics import mean"
   ]
  },
  {
   "cell_type": "code",
   "execution_count": 2,
   "id": "90e8333e",
   "metadata": {},
   "outputs": [
    {
     "data": {
      "text/html": [
       "<div>\n",
       "<style scoped>\n",
       "    .dataframe tbody tr th:only-of-type {\n",
       "        vertical-align: middle;\n",
       "    }\n",
       "\n",
       "    .dataframe tbody tr th {\n",
       "        vertical-align: top;\n",
       "    }\n",
       "\n",
       "    .dataframe thead th {\n",
       "        text-align: right;\n",
       "    }\n",
       "</style>\n",
       "<table border=\"1\" class=\"dataframe\">\n",
       "  <thead>\n",
       "    <tr style=\"text-align: right;\">\n",
       "      <th></th>\n",
       "      <th>Year</th>\n",
       "      <th>\"Regular\"</th>\n",
       "      <th>\"High End\"</th>\n",
       "    </tr>\n",
       "  </thead>\n",
       "  <tbody>\n",
       "    <tr>\n",
       "      <th>0</th>\n",
       "      <td>0</td>\n",
       "      <td>1000</td>\n",
       "      <td>1000</td>\n",
       "    </tr>\n",
       "    <tr>\n",
       "      <th>1</th>\n",
       "      <td>1</td>\n",
       "      <td>631</td>\n",
       "      <td>869</td>\n",
       "    </tr>\n",
       "    <tr>\n",
       "      <th>2</th>\n",
       "      <td>2</td>\n",
       "      <td>468</td>\n",
       "      <td>743</td>\n",
       "    </tr>\n",
       "    <tr>\n",
       "      <th>3</th>\n",
       "      <td>3</td>\n",
       "      <td>382</td>\n",
       "      <td>653</td>\n",
       "    </tr>\n",
       "    <tr>\n",
       "      <th>4</th>\n",
       "      <td>4</td>\n",
       "      <td>326</td>\n",
       "      <td>593</td>\n",
       "    </tr>\n",
       "    <tr>\n",
       "      <th>5</th>\n",
       "      <td>5</td>\n",
       "      <td>289</td>\n",
       "      <td>551</td>\n",
       "    </tr>\n",
       "    <tr>\n",
       "      <th>6</th>\n",
       "      <td>6</td>\n",
       "      <td>262</td>\n",
       "      <td>517</td>\n",
       "    </tr>\n",
       "    <tr>\n",
       "      <th>7</th>\n",
       "      <td>7</td>\n",
       "      <td>241</td>\n",
       "      <td>491</td>\n",
       "    </tr>\n",
       "    <tr>\n",
       "      <th>8</th>\n",
       "      <td>8</td>\n",
       "      <td>223</td>\n",
       "      <td>468</td>\n",
       "    </tr>\n",
       "    <tr>\n",
       "      <th>9</th>\n",
       "      <td>9</td>\n",
       "      <td>207</td>\n",
       "      <td>445</td>\n",
       "    </tr>\n",
       "    <tr>\n",
       "      <th>10</th>\n",
       "      <td>10</td>\n",
       "      <td>194</td>\n",
       "      <td>427</td>\n",
       "    </tr>\n",
       "    <tr>\n",
       "      <th>11</th>\n",
       "      <td>11</td>\n",
       "      <td>183</td>\n",
       "      <td>409</td>\n",
       "    </tr>\n",
       "    <tr>\n",
       "      <th>12</th>\n",
       "      <td>12</td>\n",
       "      <td>173</td>\n",
       "      <td>394</td>\n",
       "    </tr>\n",
       "  </tbody>\n",
       "</table>\n",
       "</div>"
      ],
      "text/plain": [
       "    Year  \"Regular\"  \"High End\"\n",
       "0      0       1000        1000\n",
       "1      1        631         869\n",
       "2      2        468         743\n",
       "3      3        382         653\n",
       "4      4        326         593\n",
       "5      5        289         551\n",
       "6      6        262         517\n",
       "7      7        241         491\n",
       "8      8        223         468\n",
       "9      9        207         445\n",
       "10    10        194         427\n",
       "11    11        183         409\n",
       "12    12        173         394"
      ]
     },
     "execution_count": 2,
     "metadata": {},
     "output_type": "execute_result"
    }
   ],
   "source": [
    "data = pandas.read_excel(\"HW1 data-1.xlsx\")\n",
    "data"
   ]
  },
  {
   "cell_type": "code",
   "execution_count": 3,
   "id": "ff8e1ffa",
   "metadata": {},
   "outputs": [],
   "source": [
    "year = data[\"Year\"]\n",
    "regular = data['\"Regular\"'][:5]\n",
    "high_end = data['\"High End\"'][:5]"
   ]
  },
  {
   "cell_type": "code",
   "execution_count": 4,
   "id": "4e93394f",
   "metadata": {},
   "outputs": [],
   "source": [
    "# Model\n",
    "def nbetageomLL(par, data):\n",
    "    a = par[0]\n",
    "    b = par[1]\n",
    "    ldenom = math.lgamma(a)+math.lgamma(b)-math.lgamma(a+b)\n",
    "    llsum = 0\n",
    "    for t in range(1,len(data)):\n",
    "        lnumer = math.lgamma(a+1)+math.lgamma(b+t-1)-math.lgamma(a+b+t)\n",
    "        llsum += (data[t-1]-data[t])*(lnumer-ldenom)\n",
    "    lnumer_surv = math.lgamma(a)+math.lgamma(b+len(data)-1)-math.lgamma(a+b+len(data)-1)\n",
    "    llsum += data[len(data)-1]*(lnumer_surv - ldenom)\n",
    "    return -llsum"
   ]
  },
  {
   "cell_type": "code",
   "execution_count": 5,
   "id": "907fd837",
   "metadata": {},
   "outputs": [],
   "source": [
    "bnds = ((0.0001,None),(0.0001,None)) "
   ]
  },
  {
   "cell_type": "markdown",
   "id": "cca376ea",
   "metadata": {},
   "source": [
    "Regular customer"
   ]
  },
  {
   "cell_type": "code",
   "execution_count": 6,
   "id": "36420cb1",
   "metadata": {},
   "outputs": [
    {
     "name": "stdout",
     "output_type": "stream",
     "text": [
      "Optimization terminated successfully.\n",
      "         Current function value: 1401.559424\n",
      "         Iterations: 59\n",
      "         Function evaluations: 119\n"
     ]
    }
   ],
   "source": [
    "# minimize the negative log likelihood = maximize the positive log likelihood\n",
    "regular_res = minimize(nbetageomLL, (1,1), (regular), method=\"nelder-mead\",\n",
    "               options={'xatol': 1e-08, 'disp': True},bounds=bnds)"
   ]
  },
  {
   "cell_type": "code",
   "execution_count": 7,
   "id": "a6a6555b",
   "metadata": {},
   "outputs": [
    {
     "name": "stdout",
     "output_type": "stream",
     "text": [
      "MLE for a,b is [0.76366516 1.29583039] and LL is -1401.5594235774438\n"
     ]
    }
   ],
   "source": [
    "print('MLE for a,b is', regular_res.x, 'and LL is',-nbetageomLL(regular_res.x,regular))"
   ]
  },
  {
   "cell_type": "code",
   "execution_count": 8,
   "id": "55c47df1",
   "metadata": {},
   "outputs": [],
   "source": [
    "regular_constant = gammaln(regular_res.x[0]) + gammaln(regular_res.x[1]) - gammaln(regular_res.x[0] + regular_res.x[1])"
   ]
  },
  {
   "cell_type": "code",
   "execution_count": 9,
   "id": "556ac7f5",
   "metadata": {},
   "outputs": [],
   "source": [
    "regular_predict = []\n",
    "for every_year in year:\n",
    "    regular = math.exp(gammaln(regular_res.x[0]) + gammaln(regular_res.x[1] + every_year) \n",
    "                             - gammaln(regular_res.x[0] + regular_res.x[1] + every_year) - regular_constant) * 1000\n",
    "    regular_predict.append(regular)"
   ]
  },
  {
   "cell_type": "code",
   "execution_count": 10,
   "id": "7b0984a9",
   "metadata": {},
   "outputs": [],
   "source": [
    "data[\"regular_predict\"] = regular_predict"
   ]
  },
  {
   "cell_type": "code",
   "execution_count": 11,
   "id": "d2266b22",
   "metadata": {},
   "outputs": [
    {
     "data": {
      "text/html": [
       "<div>\n",
       "<style scoped>\n",
       "    .dataframe tbody tr th:only-of-type {\n",
       "        vertical-align: middle;\n",
       "    }\n",
       "\n",
       "    .dataframe tbody tr th {\n",
       "        vertical-align: top;\n",
       "    }\n",
       "\n",
       "    .dataframe thead th {\n",
       "        text-align: right;\n",
       "    }\n",
       "</style>\n",
       "<table border=\"1\" class=\"dataframe\">\n",
       "  <thead>\n",
       "    <tr style=\"text-align: right;\">\n",
       "      <th></th>\n",
       "      <th>Year</th>\n",
       "      <th>\"Regular\"</th>\n",
       "      <th>\"High End\"</th>\n",
       "      <th>regular_predict</th>\n",
       "    </tr>\n",
       "  </thead>\n",
       "  <tbody>\n",
       "    <tr>\n",
       "      <th>0</th>\n",
       "      <td>0</td>\n",
       "      <td>1000</td>\n",
       "      <td>1000</td>\n",
       "      <td>1000.000000</td>\n",
       "    </tr>\n",
       "    <tr>\n",
       "      <th>1</th>\n",
       "      <td>1</td>\n",
       "      <td>631</td>\n",
       "      <td>869</td>\n",
       "      <td>629.197957</td>\n",
       "    </tr>\n",
       "    <tr>\n",
       "      <th>2</th>\n",
       "      <td>2</td>\n",
       "      <td>468</td>\n",
       "      <td>743</td>\n",
       "      <td>472.147048</td>\n",
       "    </tr>\n",
       "    <tr>\n",
       "      <th>3</th>\n",
       "      <td>3</td>\n",
       "      <td>382</td>\n",
       "      <td>653</td>\n",
       "      <td>383.327576</td>\n",
       "    </tr>\n",
       "    <tr>\n",
       "      <th>4</th>\n",
       "      <td>4</td>\n",
       "      <td>326</td>\n",
       "      <td>593</td>\n",
       "      <td>325.469256</td>\n",
       "    </tr>\n",
       "    <tr>\n",
       "      <th>5</th>\n",
       "      <td>5</td>\n",
       "      <td>289</td>\n",
       "      <td>551</td>\n",
       "      <td>284.451068</td>\n",
       "    </tr>\n",
       "    <tr>\n",
       "      <th>6</th>\n",
       "      <td>6</td>\n",
       "      <td>262</td>\n",
       "      <td>517</td>\n",
       "      <td>253.680403</td>\n",
       "    </tr>\n",
       "    <tr>\n",
       "      <th>7</th>\n",
       "      <td>7</td>\n",
       "      <td>241</td>\n",
       "      <td>491</td>\n",
       "      <td>229.643305</td>\n",
       "    </tr>\n",
       "    <tr>\n",
       "      <th>8</th>\n",
       "      <td>8</td>\n",
       "      <td>223</td>\n",
       "      <td>468</td>\n",
       "      <td>210.285650</td>\n",
       "    </tr>\n",
       "    <tr>\n",
       "      <th>9</th>\n",
       "      <td>9</td>\n",
       "      <td>207</td>\n",
       "      <td>445</td>\n",
       "      <td>194.321845</td>\n",
       "    </tr>\n",
       "    <tr>\n",
       "      <th>10</th>\n",
       "      <td>10</td>\n",
       "      <td>194</td>\n",
       "      <td>427</td>\n",
       "      <td>180.903799</td>\n",
       "    </tr>\n",
       "    <tr>\n",
       "      <th>11</th>\n",
       "      <td>11</td>\n",
       "      <td>183</td>\n",
       "      <td>409</td>\n",
       "      <td>169.448102</td>\n",
       "    </tr>\n",
       "    <tr>\n",
       "      <th>12</th>\n",
       "      <td>12</td>\n",
       "      <td>173</td>\n",
       "      <td>394</td>\n",
       "      <td>159.539479</td>\n",
       "    </tr>\n",
       "  </tbody>\n",
       "</table>\n",
       "</div>"
      ],
      "text/plain": [
       "    Year  \"Regular\"  \"High End\"  regular_predict\n",
       "0      0       1000        1000      1000.000000\n",
       "1      1        631         869       629.197957\n",
       "2      2        468         743       472.147048\n",
       "3      3        382         653       383.327576\n",
       "4      4        326         593       325.469256\n",
       "5      5        289         551       284.451068\n",
       "6      6        262         517       253.680403\n",
       "7      7        241         491       229.643305\n",
       "8      8        223         468       210.285650\n",
       "9      9        207         445       194.321845\n",
       "10    10        194         427       180.903799\n",
       "11    11        183         409       169.448102\n",
       "12    12        173         394       159.539479"
      ]
     },
     "execution_count": 11,
     "metadata": {},
     "output_type": "execute_result"
    }
   ],
   "source": [
    "data"
   ]
  },
  {
   "cell_type": "markdown",
   "id": "5193e377",
   "metadata": {},
   "source": [
    "High end customer"
   ]
  },
  {
   "cell_type": "code",
   "execution_count": 12,
   "id": "5d335103",
   "metadata": {},
   "outputs": [
    {
     "name": "stdout",
     "output_type": "stream",
     "text": [
      "Optimization terminated successfully.\n",
      "         Current function value: 1225.134907\n",
      "         Iterations: 87\n",
      "         Function evaluations: 177\n"
     ]
    }
   ],
   "source": [
    "high_res = minimize(nbetageomLL, (1,1), (high_end), method=\"nelder-mead\",\n",
    "               options={'xatol': 1e-08, 'disp': True},bounds=bnds)"
   ]
  },
  {
   "cell_type": "code",
   "execution_count": 13,
   "id": "512d74a0",
   "metadata": {},
   "outputs": [
    {
     "name": "stdout",
     "output_type": "stream",
     "text": [
      "MLE for a,b is [1.2809771  7.79038844] and LL is -1225.1349070416081\n"
     ]
    }
   ],
   "source": [
    "print('MLE for a,b is', high_res.x, 'and LL is',-nbetageomLL(high_res.x,high_end))"
   ]
  },
  {
   "cell_type": "code",
   "execution_count": 14,
   "id": "75252e3e",
   "metadata": {},
   "outputs": [
    {
     "data": {
      "text/plain": [
       "-2.756807067908202"
      ]
     },
     "execution_count": 14,
     "metadata": {},
     "output_type": "execute_result"
    }
   ],
   "source": [
    "high_constant = gammaln(high_res.x[0]) + gammaln(high_res.x[1]) - gammaln(high_res.x[0] + high_res.x[1])\n",
    "high_constant"
   ]
  },
  {
   "cell_type": "code",
   "execution_count": 15,
   "id": "477104e0",
   "metadata": {},
   "outputs": [],
   "source": [
    "high_predict = []\n",
    "for every_year in year:\n",
    "    high = math.exp(gammaln(high_res.x[0]) + gammaln(high_res.x[1] + every_year) - gammaln(high_res.x[0] + high_res.x[1] + every_year) - high_constant) * 1000\n",
    "    high_predict.append(high)"
   ]
  },
  {
   "cell_type": "code",
   "execution_count": 16,
   "id": "d60f7c77",
   "metadata": {},
   "outputs": [],
   "source": [
    "data[\"high_end_predict\"] = high_predict"
   ]
  },
  {
   "cell_type": "code",
   "execution_count": 17,
   "id": "15a3e258",
   "metadata": {},
   "outputs": [
    {
     "data": {
      "text/html": [
       "<div>\n",
       "<style scoped>\n",
       "    .dataframe tbody tr th:only-of-type {\n",
       "        vertical-align: middle;\n",
       "    }\n",
       "\n",
       "    .dataframe tbody tr th {\n",
       "        vertical-align: top;\n",
       "    }\n",
       "\n",
       "    .dataframe thead th {\n",
       "        text-align: right;\n",
       "    }\n",
       "</style>\n",
       "<table border=\"1\" class=\"dataframe\">\n",
       "  <thead>\n",
       "    <tr style=\"text-align: right;\">\n",
       "      <th></th>\n",
       "      <th>Year</th>\n",
       "      <th>\"Regular\"</th>\n",
       "      <th>\"High End\"</th>\n",
       "      <th>regular_predict</th>\n",
       "      <th>high_end_predict</th>\n",
       "    </tr>\n",
       "  </thead>\n",
       "  <tbody>\n",
       "    <tr>\n",
       "      <th>0</th>\n",
       "      <td>0</td>\n",
       "      <td>1000</td>\n",
       "      <td>1000</td>\n",
       "      <td>1000.000000</td>\n",
       "      <td>1000.000000</td>\n",
       "    </tr>\n",
       "    <tr>\n",
       "      <th>1</th>\n",
       "      <td>1</td>\n",
       "      <td>631</td>\n",
       "      <td>869</td>\n",
       "      <td>629.197957</td>\n",
       "      <td>858.788945</td>\n",
       "    </tr>\n",
       "    <tr>\n",
       "      <th>2</th>\n",
       "      <td>2</td>\n",
       "      <td>468</td>\n",
       "      <td>743</td>\n",
       "      <td>472.147048</td>\n",
       "      <td>749.559569</td>\n",
       "    </tr>\n",
       "    <tr>\n",
       "      <th>3</th>\n",
       "      <td>3</td>\n",
       "      <td>382</td>\n",
       "      <td>653</td>\n",
       "      <td>383.327576</td>\n",
       "      <td>662.834165</td>\n",
       "    </tr>\n",
       "    <tr>\n",
       "      <th>4</th>\n",
       "      <td>4</td>\n",
       "      <td>326</td>\n",
       "      <td>593</td>\n",
       "      <td>325.469256</td>\n",
       "      <td>592.496192</td>\n",
       "    </tr>\n",
       "    <tr>\n",
       "      <th>5</th>\n",
       "      <td>5</td>\n",
       "      <td>289</td>\n",
       "      <td>551</td>\n",
       "      <td>284.451068</td>\n",
       "      <td>534.432323</td>\n",
       "    </tr>\n",
       "    <tr>\n",
       "      <th>6</th>\n",
       "      <td>6</td>\n",
       "      <td>262</td>\n",
       "      <td>517</td>\n",
       "      <td>253.680403</td>\n",
       "      <td>485.780643</td>\n",
       "    </tr>\n",
       "    <tr>\n",
       "      <th>7</th>\n",
       "      <td>7</td>\n",
       "      <td>241</td>\n",
       "      <td>491</td>\n",
       "      <td>229.643305</td>\n",
       "      <td>444.492156</td>\n",
       "    </tr>\n",
       "    <tr>\n",
       "      <th>8</th>\n",
       "      <td>8</td>\n",
       "      <td>223</td>\n",
       "      <td>468</td>\n",
       "      <td>210.285650</td>\n",
       "      <td>409.063663</td>\n",
       "    </tr>\n",
       "    <tr>\n",
       "      <th>9</th>\n",
       "      <td>9</td>\n",
       "      <td>207</td>\n",
       "      <td>445</td>\n",
       "      <td>194.321845</td>\n",
       "      <td>378.368919</td>\n",
       "    </tr>\n",
       "    <tr>\n",
       "      <th>10</th>\n",
       "      <td>10</td>\n",
       "      <td>194</td>\n",
       "      <td>427</td>\n",
       "      <td>180.903799</td>\n",
       "      <td>351.548482</td>\n",
       "    </tr>\n",
       "    <tr>\n",
       "      <th>11</th>\n",
       "      <td>11</td>\n",
       "      <td>183</td>\n",
       "      <td>409</td>\n",
       "      <td>169.448102</td>\n",
       "      <td>327.935828</td>\n",
       "    </tr>\n",
       "    <tr>\n",
       "      <th>12</th>\n",
       "      <td>12</td>\n",
       "      <td>173</td>\n",
       "      <td>394</td>\n",
       "      <td>159.539479</td>\n",
       "      <td>307.006595</td>\n",
       "    </tr>\n",
       "  </tbody>\n",
       "</table>\n",
       "</div>"
      ],
      "text/plain": [
       "    Year  \"Regular\"  \"High End\"  regular_predict  high_end_predict\n",
       "0      0       1000        1000      1000.000000       1000.000000\n",
       "1      1        631         869       629.197957        858.788945\n",
       "2      2        468         743       472.147048        749.559569\n",
       "3      3        382         653       383.327576        662.834165\n",
       "4      4        326         593       325.469256        592.496192\n",
       "5      5        289         551       284.451068        534.432323\n",
       "6      6        262         517       253.680403        485.780643\n",
       "7      7        241         491       229.643305        444.492156\n",
       "8      8        223         468       210.285650        409.063663\n",
       "9      9        207         445       194.321845        378.368919\n",
       "10    10        194         427       180.903799        351.548482\n",
       "11    11        183         409       169.448102        327.935828\n",
       "12    12        173         394       159.539479        307.006595"
      ]
     },
     "execution_count": 17,
     "metadata": {},
     "output_type": "execute_result"
    }
   ],
   "source": [
    "data"
   ]
  },
  {
   "cell_type": "code",
   "execution_count": 18,
   "id": "b95319e5",
   "metadata": {},
   "outputs": [
    {
     "data": {
      "text/plain": [
       "Text(0.5, 1.0, 'Regular customer prediction')"
      ]
     },
     "execution_count": 18,
     "metadata": {},
     "output_type": "execute_result"
    },
    {
     "data": {
      "image/png": "[encoded data removed]",
      "text/plain": [
       "<Figure size 432x288 with 1 Axes>"
      ]
     },
     "metadata": {
      "needs_background": "light"
     },
     "output_type": "display_data"
    }
   ],
   "source": [
    "pyplot.plot(data['Year'], data['\"Regular\"'])\n",
    "pyplot.plot(data['Year'], data['regular_predict'])\n",
    "pyplot.legend(['Actual', 'Predicted'])\n",
    "pyplot.title(\"Regular customer prediction\")"
   ]
  },
  {
   "cell_type": "code",
   "execution_count": 19,
   "id": "1758b229",
   "metadata": {},
   "outputs": [
    {
     "data": {
      "text/plain": [
       "Text(0.5, 1.0, 'High-end customer prediction')"
      ]
     },
     "execution_count": 19,
     "metadata": {},
     "output_type": "execute_result"
    },
    {
     "data": {
      "image/png": "[encoded data removed]",
      "text/plain": [
       "<Figure size 432x288 with 1 Axes>"
      ]
     },
     "metadata": {
      "needs_background": "light"
     },
     "output_type": "display_data"
    }
   ],
   "source": [
    "pyplot.plot(data['Year'], data['\"High End\"'])\n",
    "pyplot.plot(data['Year'], data['high_end_predict'])\n",
    "pyplot.legend(['Actual', 'Predicted'])\n",
    "pyplot.title(\"High-end customer prediction\")"
   ]
  },
  {
   "cell_type": "markdown",
   "id": "59bbb32b",
   "metadata": {},
   "source": [
    "## 4 year data Mape"
   ]
  },
  {
   "cell_type": "code",
   "execution_count": 20,
   "id": "795bdfd7",
   "metadata": {},
   "outputs": [
    {
     "data": {
      "text/plain": [
       "0.0033640892122886166"
      ]
     },
     "execution_count": 20,
     "metadata": {},
     "output_type": "execute_result"
    }
   ],
   "source": [
    "regular_mape_05 = abs(data['\"Regular\"'][0:5] - data[\"regular_predict\"][0:5]) / data['\"Regular\"'][0:5]\n",
    "mean(regular_mape_05)"
   ]
  },
  {
   "cell_type": "code",
   "execution_count": 21,
   "id": "d91273b3",
   "metadata": {},
   "outputs": [
    {
     "data": {
      "text/plain": [
       "0.05403081964597919"
      ]
     },
     "execution_count": 21,
     "metadata": {},
     "output_type": "execute_result"
    }
   ],
   "source": [
    "regular_mape_612 = abs(data['\"Regular\"'][5:13] - data[\"regular_predict\"][5:13]) / data['\"Regular\"'][5:13]\n",
    "mean(regular_mape_612)"
   ]
  },
  {
   "cell_type": "code",
   "execution_count": 22,
   "id": "6a22806a",
   "metadata": {},
   "outputs": [
    {
     "data": {
      "text/plain": [
       "0.007297682341816451"
      ]
     },
     "execution_count": 22,
     "metadata": {},
     "output_type": "execute_result"
    }
   ],
   "source": [
    "high_mape_05 = abs(data['\"High End\"'][0:5] - data[\"high_end_predict\"][0:5]) / data['\"High End\"'][0:5]\n",
    "mean(high_mape_05)"
   ]
  },
  {
   "cell_type": "code",
   "execution_count": 23,
   "id": "8fdcc44f",
   "metadata": {},
   "outputs": [
    {
     "data": {
      "text/plain": [
       "0.13206719380995377"
      ]
     },
     "execution_count": 23,
     "metadata": {},
     "output_type": "execute_result"
    }
   ],
   "source": [
    "high_mape_612 = abs(data['\"High End\"'][5:13] - data[\"high_end_predict\"][5:13]) / data['\"High End\"'][5:13]\n",
    "mean(high_mape_612)"
   ]
  },
  {
   "cell_type": "markdown",
   "id": "547eeb73",
   "metadata": {},
   "source": [
    "## 7 year data MAPE"
   ]
  },
  {
   "cell_type": "code",
   "execution_count": 24,
   "id": "3fb5bcea",
   "metadata": {},
   "outputs": [],
   "source": [
    "regular = data['\"Regular\"'][:8]\n",
    "high_end = data['\"High End\"'][:8]"
   ]
  },
  {
   "cell_type": "code",
   "execution_count": 25,
   "id": "c00a6cf5",
   "metadata": {},
   "outputs": [
    {
     "name": "stdout",
     "output_type": "stream",
     "text": [
      "Optimization terminated successfully.\n",
      "         Current function value: 1680.265188\n",
      "         Iterations: 68\n",
      "         Function evaluations: 139\n"
     ]
    }
   ],
   "source": [
    "regular_res = minimize(nbetageomLL, (1,1), (regular), method=\"nelder-mead\",\n",
    "               options={'xatol': 1e-08, 'disp': True},bounds=bnds)"
   ]
  },
  {
   "cell_type": "code",
   "execution_count": 26,
   "id": "264113b6",
   "metadata": {},
   "outputs": [],
   "source": [
    "regular_constant = gammaln(regular_res.x[0]) + gammaln(regular_res.x[1]) - gammaln(regular_res.x[0] + regular_res.x[1])"
   ]
  },
  {
   "cell_type": "code",
   "execution_count": 27,
   "id": "ad26cf3b",
   "metadata": {},
   "outputs": [],
   "source": [
    "regular_predict = []\n",
    "for every_year in year:\n",
    "    regular = math.exp(gammaln(regular_res.x[0]) + gammaln(regular_res.x[1] + every_year) \n",
    "                             - gammaln(regular_res.x[0] + regular_res.x[1] + every_year) - regular_constant) * 1000\n",
    "    regular_predict.append(regular)"
   ]
  },
  {
   "cell_type": "code",
   "execution_count": 28,
   "id": "ab643c77",
   "metadata": {},
   "outputs": [],
   "source": [
    "data[\"regular_predict_7\"] = regular_predict"
   ]
  },
  {
   "cell_type": "code",
   "execution_count": 29,
   "id": "55975bb4",
   "metadata": {},
   "outputs": [
    {
     "data": {
      "text/html": [
       "<div>\n",
       "<style scoped>\n",
       "    .dataframe tbody tr th:only-of-type {\n",
       "        vertical-align: middle;\n",
       "    }\n",
       "\n",
       "    .dataframe tbody tr th {\n",
       "        vertical-align: top;\n",
       "    }\n",
       "\n",
       "    .dataframe thead th {\n",
       "        text-align: right;\n",
       "    }\n",
       "</style>\n",
       "<table border=\"1\" class=\"dataframe\">\n",
       "  <thead>\n",
       "    <tr style=\"text-align: right;\">\n",
       "      <th></th>\n",
       "      <th>Year</th>\n",
       "      <th>\"Regular\"</th>\n",
       "      <th>\"High End\"</th>\n",
       "      <th>regular_predict</th>\n",
       "      <th>high_end_predict</th>\n",
       "      <th>regular_predict_7</th>\n",
       "    </tr>\n",
       "  </thead>\n",
       "  <tbody>\n",
       "    <tr>\n",
       "      <th>0</th>\n",
       "      <td>0</td>\n",
       "      <td>1000</td>\n",
       "      <td>1000</td>\n",
       "      <td>1000.000000</td>\n",
       "      <td>1000.000000</td>\n",
       "      <td>1000.000000</td>\n",
       "    </tr>\n",
       "    <tr>\n",
       "      <th>1</th>\n",
       "      <td>1</td>\n",
       "      <td>631</td>\n",
       "      <td>869</td>\n",
       "      <td>629.197957</td>\n",
       "      <td>858.788945</td>\n",
       "      <td>626.706063</td>\n",
       "    </tr>\n",
       "    <tr>\n",
       "      <th>2</th>\n",
       "      <td>2</td>\n",
       "      <td>468</td>\n",
       "      <td>743</td>\n",
       "      <td>472.147048</td>\n",
       "      <td>749.559569</td>\n",
       "      <td>473.819330</td>\n",
       "    </tr>\n",
       "    <tr>\n",
       "      <th>3</th>\n",
       "      <td>3</td>\n",
       "      <td>382</td>\n",
       "      <td>653</td>\n",
       "      <td>383.327576</td>\n",
       "      <td>662.834165</td>\n",
       "      <td>387.973961</td>\n",
       "    </tr>\n",
       "    <tr>\n",
       "      <th>4</th>\n",
       "      <td>4</td>\n",
       "      <td>326</td>\n",
       "      <td>593</td>\n",
       "      <td>325.469256</td>\n",
       "      <td>592.496192</td>\n",
       "      <td>332.067917</td>\n",
       "    </tr>\n",
       "    <tr>\n",
       "      <th>5</th>\n",
       "      <td>5</td>\n",
       "      <td>289</td>\n",
       "      <td>551</td>\n",
       "      <td>284.451068</td>\n",
       "      <td>534.432323</td>\n",
       "      <td>292.347104</td>\n",
       "    </tr>\n",
       "    <tr>\n",
       "      <th>6</th>\n",
       "      <td>6</td>\n",
       "      <td>262</td>\n",
       "      <td>517</td>\n",
       "      <td>253.680403</td>\n",
       "      <td>485.780643</td>\n",
       "      <td>262.455822</td>\n",
       "    </tr>\n",
       "    <tr>\n",
       "      <th>7</th>\n",
       "      <td>7</td>\n",
       "      <td>241</td>\n",
       "      <td>491</td>\n",
       "      <td>229.643305</td>\n",
       "      <td>444.492156</td>\n",
       "      <td>239.023617</td>\n",
       "    </tr>\n",
       "    <tr>\n",
       "      <th>8</th>\n",
       "      <td>8</td>\n",
       "      <td>223</td>\n",
       "      <td>468</td>\n",
       "      <td>210.285650</td>\n",
       "      <td>409.063663</td>\n",
       "      <td>220.084969</td>\n",
       "    </tr>\n",
       "    <tr>\n",
       "      <th>9</th>\n",
       "      <td>9</td>\n",
       "      <td>207</td>\n",
       "      <td>445</td>\n",
       "      <td>194.321845</td>\n",
       "      <td>378.368919</td>\n",
       "      <td>204.410789</td>\n",
       "    </tr>\n",
       "    <tr>\n",
       "      <th>10</th>\n",
       "      <td>10</td>\n",
       "      <td>194</td>\n",
       "      <td>427</td>\n",
       "      <td>180.903799</td>\n",
       "      <td>351.548482</td>\n",
       "      <td>191.190193</td>\n",
       "    </tr>\n",
       "    <tr>\n",
       "      <th>11</th>\n",
       "      <td>11</td>\n",
       "      <td>183</td>\n",
       "      <td>409</td>\n",
       "      <td>169.448102</td>\n",
       "      <td>327.935828</td>\n",
       "      <td>179.864994</td>\n",
       "    </tr>\n",
       "    <tr>\n",
       "      <th>12</th>\n",
       "      <td>12</td>\n",
       "      <td>173</td>\n",
       "      <td>394</td>\n",
       "      <td>159.539479</td>\n",
       "      <td>307.006595</td>\n",
       "      <td>170.037454</td>\n",
       "    </tr>\n",
       "  </tbody>\n",
       "</table>\n",
       "</div>"
      ],
      "text/plain": [
       "    Year  \"Regular\"  \"High End\"  regular_predict  high_end_predict  \\\n",
       "0      0       1000        1000      1000.000000       1000.000000   \n",
       "1      1        631         869       629.197957        858.788945   \n",
       "2      2        468         743       472.147048        749.559569   \n",
       "3      3        382         653       383.327576        662.834165   \n",
       "4      4        326         593       325.469256        592.496192   \n",
       "5      5        289         551       284.451068        534.432323   \n",
       "6      6        262         517       253.680403        485.780643   \n",
       "7      7        241         491       229.643305        444.492156   \n",
       "8      8        223         468       210.285650        409.063663   \n",
       "9      9        207         445       194.321845        378.368919   \n",
       "10    10        194         427       180.903799        351.548482   \n",
       "11    11        183         409       169.448102        327.935828   \n",
       "12    12        173         394       159.539479        307.006595   \n",
       "\n",
       "    regular_predict_7  \n",
       "0         1000.000000  \n",
       "1          626.706063  \n",
       "2          473.819330  \n",
       "3          387.973961  \n",
       "4          332.067917  \n",
       "5          292.347104  \n",
       "6          262.455822  \n",
       "7          239.023617  \n",
       "8          220.084969  \n",
       "9          204.410789  \n",
       "10         191.190193  \n",
       "11         179.864994  \n",
       "12         170.037454  "
      ]
     },
     "execution_count": 29,
     "metadata": {},
     "output_type": "execute_result"
    }
   ],
   "source": [
    "data"
   ]
  },
  {
   "cell_type": "code",
   "execution_count": 30,
   "id": "f30515fb",
   "metadata": {},
   "outputs": [
    {
     "data": {
      "text/plain": [
       "0.009376691469464961"
      ]
     },
     "execution_count": 30,
     "metadata": {},
     "output_type": "execute_result"
    }
   ],
   "source": [
    "regular_mape_08 = abs(data['\"Regular\"'][0:8] - data[\"regular_predict_7\"][0:8]) / data['\"Regular\"'][0:8]\n",
    "mean(regular_mape_08)"
   ]
  },
  {
   "cell_type": "code",
   "execution_count": 31,
   "id": "d9b71466",
   "metadata": {},
   "outputs": [
    {
     "data": {
      "text/plain": [
       "0.014863882781165377"
      ]
     },
     "execution_count": 31,
     "metadata": {},
     "output_type": "execute_result"
    }
   ],
   "source": [
    "regular_mape_812 = abs(data['\"Regular\"'][8:13] - data[\"regular_predict_7\"][8:13]) / data['\"Regular\"'][8:13]\n",
    "mean(regular_mape_812)"
   ]
  },
  {
   "cell_type": "code",
   "execution_count": 32,
   "id": "3525cf76",
   "metadata": {},
   "outputs": [
    {
     "name": "stdout",
     "output_type": "stream",
     "text": [
      "Optimization terminated successfully.\n",
      "         Current function value: 1611.158147\n",
      "         Iterations: 78\n",
      "         Function evaluations: 164\n"
     ]
    }
   ],
   "source": [
    "high_res = minimize(nbetageomLL, (1,1), (high_end), method=\"nelder-mead\",\n",
    "               options={'xatol': 1e-08, 'disp': True},bounds=bnds)"
   ]
  },
  {
   "cell_type": "code",
   "execution_count": 33,
   "id": "42e57fbe",
   "metadata": {},
   "outputs": [
    {
     "data": {
      "text/plain": [
       "-0.5630569864412258"
      ]
     },
     "execution_count": 33,
     "metadata": {},
     "output_type": "execute_result"
    }
   ],
   "source": [
    "high_constant = gammaln(high_res.x[0]) + gammaln(high_res.x[1]) - gammaln(high_res.x[0] + high_res.x[1])\n",
    "high_constant"
   ]
  },
  {
   "cell_type": "code",
   "execution_count": 34,
   "id": "bd8ec6cc",
   "metadata": {},
   "outputs": [],
   "source": [
    "high_predict = []\n",
    "for every_year in year:\n",
    "    high = math.exp(gammaln(high_res.x[0]) + gammaln(high_res.x[1] + every_year) - gammaln(high_res.x[0] + high_res.x[1] + every_year) - high_constant) * 1000\n",
    "    high_predict.append(high)"
   ]
  },
  {
   "cell_type": "code",
   "execution_count": 35,
   "id": "cddb544e",
   "metadata": {},
   "outputs": [],
   "source": [
    "data[\"high_end_predict_7\"] = high_predict"
   ]
  },
  {
   "cell_type": "code",
   "execution_count": 36,
   "id": "9edbe24e",
   "metadata": {},
   "outputs": [
    {
     "data": {
      "text/html": [
       "<div>\n",
       "<style scoped>\n",
       "    .dataframe tbody tr th:only-of-type {\n",
       "        vertical-align: middle;\n",
       "    }\n",
       "\n",
       "    .dataframe tbody tr th {\n",
       "        vertical-align: top;\n",
       "    }\n",
       "\n",
       "    .dataframe thead th {\n",
       "        text-align: right;\n",
       "    }\n",
       "</style>\n",
       "<table border=\"1\" class=\"dataframe\">\n",
       "  <thead>\n",
       "    <tr style=\"text-align: right;\">\n",
       "      <th></th>\n",
       "      <th>Year</th>\n",
       "      <th>\"Regular\"</th>\n",
       "      <th>\"High End\"</th>\n",
       "      <th>regular_predict</th>\n",
       "      <th>high_end_predict</th>\n",
       "      <th>regular_predict_7</th>\n",
       "      <th>high_end_predict_7</th>\n",
       "    </tr>\n",
       "  </thead>\n",
       "  <tbody>\n",
       "    <tr>\n",
       "      <th>0</th>\n",
       "      <td>0</td>\n",
       "      <td>1000</td>\n",
       "      <td>1000</td>\n",
       "      <td>1000.000000</td>\n",
       "      <td>1000.000000</td>\n",
       "      <td>1000.000000</td>\n",
       "      <td>1000.000000</td>\n",
       "    </tr>\n",
       "    <tr>\n",
       "      <th>1</th>\n",
       "      <td>1</td>\n",
       "      <td>631</td>\n",
       "      <td>869</td>\n",
       "      <td>629.197957</td>\n",
       "      <td>858.788945</td>\n",
       "      <td>626.706063</td>\n",
       "      <td>850.679274</td>\n",
       "    </tr>\n",
       "    <tr>\n",
       "      <th>2</th>\n",
       "      <td>2</td>\n",
       "      <td>468</td>\n",
       "      <td>743</td>\n",
       "      <td>472.147048</td>\n",
       "      <td>749.559569</td>\n",
       "      <td>473.819330</td>\n",
       "      <td>746.859425</td>\n",
       "    </tr>\n",
       "    <tr>\n",
       "      <th>3</th>\n",
       "      <td>3</td>\n",
       "      <td>382</td>\n",
       "      <td>653</td>\n",
       "      <td>383.327576</td>\n",
       "      <td>662.834165</td>\n",
       "      <td>387.973961</td>\n",
       "      <td>669.788998</td>\n",
       "    </tr>\n",
       "    <tr>\n",
       "      <th>4</th>\n",
       "      <td>4</td>\n",
       "      <td>326</td>\n",
       "      <td>593</td>\n",
       "      <td>325.469256</td>\n",
       "      <td>592.496192</td>\n",
       "      <td>332.067917</td>\n",
       "      <td>609.919149</td>\n",
       "    </tr>\n",
       "    <tr>\n",
       "      <th>5</th>\n",
       "      <td>5</td>\n",
       "      <td>289</td>\n",
       "      <td>551</td>\n",
       "      <td>284.451068</td>\n",
       "      <td>534.432323</td>\n",
       "      <td>292.347104</td>\n",
       "      <td>561.834294</td>\n",
       "    </tr>\n",
       "    <tr>\n",
       "      <th>6</th>\n",
       "      <td>6</td>\n",
       "      <td>262</td>\n",
       "      <td>517</td>\n",
       "      <td>253.680403</td>\n",
       "      <td>485.780643</td>\n",
       "      <td>262.455822</td>\n",
       "      <td>522.215580</td>\n",
       "    </tr>\n",
       "    <tr>\n",
       "      <th>7</th>\n",
       "      <td>7</td>\n",
       "      <td>241</td>\n",
       "      <td>491</td>\n",
       "      <td>229.643305</td>\n",
       "      <td>444.492156</td>\n",
       "      <td>239.023617</td>\n",
       "      <td>488.906429</td>\n",
       "    </tr>\n",
       "    <tr>\n",
       "      <th>8</th>\n",
       "      <td>8</td>\n",
       "      <td>223</td>\n",
       "      <td>468</td>\n",
       "      <td>210.285650</td>\n",
       "      <td>409.063663</td>\n",
       "      <td>220.084969</td>\n",
       "      <td>460.439680</td>\n",
       "    </tr>\n",
       "    <tr>\n",
       "      <th>9</th>\n",
       "      <td>9</td>\n",
       "      <td>207</td>\n",
       "      <td>445</td>\n",
       "      <td>194.321845</td>\n",
       "      <td>378.368919</td>\n",
       "      <td>204.410789</td>\n",
       "      <td>435.779597</td>\n",
       "    </tr>\n",
       "    <tr>\n",
       "      <th>10</th>\n",
       "      <td>10</td>\n",
       "      <td>194</td>\n",
       "      <td>427</td>\n",
       "      <td>180.903799</td>\n",
       "      <td>351.548482</td>\n",
       "      <td>191.190193</td>\n",
       "      <td>414.172403</td>\n",
       "    </tr>\n",
       "    <tr>\n",
       "      <th>11</th>\n",
       "      <td>11</td>\n",
       "      <td>183</td>\n",
       "      <td>409</td>\n",
       "      <td>169.448102</td>\n",
       "      <td>327.935828</td>\n",
       "      <td>179.864994</td>\n",
       "      <td>395.055348</td>\n",
       "    </tr>\n",
       "    <tr>\n",
       "      <th>12</th>\n",
       "      <td>12</td>\n",
       "      <td>173</td>\n",
       "      <td>394</td>\n",
       "      <td>159.539479</td>\n",
       "      <td>307.006595</td>\n",
       "      <td>170.037454</td>\n",
       "      <td>377.999075</td>\n",
       "    </tr>\n",
       "  </tbody>\n",
       "</table>\n",
       "</div>"
      ],
      "text/plain": [
       "    Year  \"Regular\"  \"High End\"  regular_predict  high_end_predict  \\\n",
       "0      0       1000        1000      1000.000000       1000.000000   \n",
       "1      1        631         869       629.197957        858.788945   \n",
       "2      2        468         743       472.147048        749.559569   \n",
       "3      3        382         653       383.327576        662.834165   \n",
       "4      4        326         593       325.469256        592.496192   \n",
       "5      5        289         551       284.451068        534.432323   \n",
       "6      6        262         517       253.680403        485.780643   \n",
       "7      7        241         491       229.643305        444.492156   \n",
       "8      8        223         468       210.285650        409.063663   \n",
       "9      9        207         445       194.321845        378.368919   \n",
       "10    10        194         427       180.903799        351.548482   \n",
       "11    11        183         409       169.448102        327.935828   \n",
       "12    12        173         394       159.539479        307.006595   \n",
       "\n",
       "    regular_predict_7  high_end_predict_7  \n",
       "0         1000.000000         1000.000000  \n",
       "1          626.706063          850.679274  \n",
       "2          473.819330          746.859425  \n",
       "3          387.973961          669.788998  \n",
       "4          332.067917          609.919149  \n",
       "5          292.347104          561.834294  \n",
       "6          262.455822          522.215580  \n",
       "7          239.023617          488.906429  \n",
       "8          220.084969          460.439680  \n",
       "9          204.410789          435.779597  \n",
       "10         191.190193          414.172403  \n",
       "11         179.864994          395.055348  \n",
       "12         170.037454          377.999075  "
      ]
     },
     "execution_count": 36,
     "metadata": {},
     "output_type": "execute_result"
    }
   ],
   "source": [
    "data"
   ]
  },
  {
   "cell_type": "code",
   "execution_count": 37,
   "id": "5964ce17",
   "metadata": {},
   "outputs": [
    {
     "data": {
      "text/plain": [
       "0.01431674394626515"
      ]
     },
     "execution_count": 37,
     "metadata": {},
     "output_type": "execute_result"
    }
   ],
   "source": [
    "high_mape_07 = abs(data['\"High End\"'][0:8] - data[\"high_end_predict_7\"][0:8]) / data['\"High End\"'][0:8]\n",
    "mean(high_mape_07)"
   ]
  },
  {
   "cell_type": "code",
   "execution_count": 38,
   "id": "5bcf6645",
   "metadata": {},
   "outputs": [
    {
     "data": {
      "text/plain": [
       "0.028324347459442435"
      ]
     },
     "execution_count": 38,
     "metadata": {},
     "output_type": "execute_result"
    }
   ],
   "source": [
    "high_mape_812 = abs(data['\"High End\"'][8:13] - data[\"high_end_predict_7\"][8:13]) / data['\"High End\"'][8:13]\n",
    "mean(high_mape_812)"
   ]
  },
  {
   "cell_type": "code",
   "execution_count": 54,
   "id": "21110575",
   "metadata": {},
   "outputs": [
    {
     "data": {
      "text/plain": [
       "Text(0.5, 1.0, '7 years data')"
      ]
     },
     "execution_count": 54,
     "metadata": {},
     "output_type": "execute_result"
    },
    {
     "data": {
      "image/png": "[encoded data removed]",
      "text/plain": [
       "<Figure size 432x288 with 2 Axes>"
      ]
     },
     "metadata": {
      "needs_background": "light"
     },
     "output_type": "display_data"
    }
   ],
   "source": [
    "pyplot.subplot(1, 2, 1)\n",
    "pyplot.plot(data['Year'], data['\"Regular\"'])\n",
    "pyplot.plot(data['Year'], data['regular_predict'])\n",
    "pyplot.legend(['Actual', 'Predicted'])\n",
    "pyplot.title(\"4 years data\")\n",
    "pyplot.subplot(1, 2, 2)\n",
    "pyplot.plot(data['Year'], data['\"Regular\"'])\n",
    "pyplot.plot(data['Year'], data['regular_predict_7'])\n",
    "pyplot.legend(['Actual', 'Predicted'])\n",
    "pyplot.title(\"7 years data\")"
   ]
  },
  {
   "cell_type": "code",
   "execution_count": 55,
   "id": "3cc4892a",
   "metadata": {},
   "outputs": [
    {
     "data": {
      "text/plain": [
       "Text(0.5, 1.0, '7 years data')"
      ]
     },
     "execution_count": 55,
     "metadata": {},
     "output_type": "execute_result"
    },
    {
     "data": {
      "image/png": "[encoded data removed]",
      "text/plain": [
       "<Figure size 432x288 with 2 Axes>"
      ]
     },
     "metadata": {
      "needs_background": "light"
     },
     "output_type": "display_data"
    }
   ],
   "source": [
    "pyplot.subplot(1, 2, 1)\n",
    "pyplot.plot(data['Year'], data['\"High End\"'])\n",
    "pyplot.plot(data['Year'], data['high_end_predict'])\n",
    "pyplot.legend(['Actual', 'Predicted'])\n",
    "pyplot.title(\"4 years data\")\n",
    "pyplot.subplot(1, 2, 2)\n",
    "pyplot.plot(data['Year'], data['\"High End\"'])\n",
    "pyplot.plot(data['Year'], data['high_end_predict_7'])\n",
    "pyplot.legend(['Actual', 'Predicted'])\n",
    "pyplot.title(\"7 years data\")"
   ]
  },
  {
   "cell_type": "code",
   "execution_count": null,
   "id": "19ba6d7d",
   "metadata": {},
   "outputs": [],
   "source": []
  }
 ],
 "metadata": {
  "kernelspec": {
   "display_name": "Python 3 (ipykernel)",
   "language": "python",
   "name": "python3"
  },
  "language_info": {
   "codemirror_mode": {
    "name": "ipython",
    "version": 3
   },
   "file_extension": ".py",
   "mimetype": "text/x-python",
   "name": "python",
   "nbconvert_exporter": "python",
   "pygments_lexer": "ipython3",
   "version": "3.9.7"
  }
 },
 "nbformat": 4,
 "nbformat_minor": 5
}
